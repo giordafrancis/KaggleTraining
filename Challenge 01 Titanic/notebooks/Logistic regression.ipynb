{
 "cells": [
  {
   "cell_type": "code",
   "execution_count": 5,
   "id": "bb8a43b3-6d4f-4799-be71-8afbc5825e16",
   "metadata": {},
   "outputs": [],
   "source": [
    "from sklearn.linear_model import LogisticRegression\n",
    "from sklearn.metrics import classification_report, confusion_matrix\n",
    "import pandas as pd\n",
    "from sklearn.model_selection import train_test_split"
   ]
  },
  {
   "cell_type": "code",
   "execution_count": 21,
   "id": "9eea6fff-0925-42a7-9a27-ee4997b6f43f",
   "metadata": {},
   "outputs": [],
   "source": [
    "from sklearn.model_selection import GridSearchCV\n",
    "from sklearn.model_selection import RepeatedStratifiedKFold"
   ]
  },
  {
   "cell_type": "code",
   "execution_count": 2,
   "id": "832cb64f-622e-4d66-acad-1a3e324dd293",
   "metadata": {},
   "outputs": [],
   "source": [
    "final_test = pd.read_csv(\"../data/processed/final_test.csv\")\n",
    "final_train = pd.read_csv(\"../data/processed/final_train.csv\")"
   ]
  },
  {
   "cell_type": "code",
   "execution_count": 3,
   "id": "ea515ee2-895d-4b63-a426-c98556d34778",
   "metadata": {},
   "outputs": [],
   "source": [
    "feature_columns_to_use = ['Age','TravelAlone','Pclass_1','Pclass_2', 'Fare','Sex_male', 'IsMinor', 'Embarked_C', 'Embarked_S']"
   ]
  },
  {
   "cell_type": "code",
   "execution_count": 6,
   "id": "93517881-1d24-4068-b111-b951d775600e",
   "metadata": {},
   "outputs": [],
   "source": [
    "# Prepare the inputs for the model\n",
    "y = final_train['Survived']\n",
    "X = final_train.loc[:, feature_columns_to_use]\n",
    "\n",
    "train_X, test_X, train_y, test_y = train_test_split(X, y, random_state=104, \n",
    "                                                           test_size=0.25, \n",
    "                                                           shuffle=True)\n"
   ]
  },
  {
   "cell_type": "code",
   "execution_count": 23,
   "id": "f5084f56-b0c6-40f8-9a56-5bb0854dc329",
   "metadata": {},
   "outputs": [],
   "source": [
    "# define model\n",
    "model = LogisticRegression()"
   ]
  },
  {
   "cell_type": "code",
   "execution_count": 68,
   "id": "e242ecd3-29be-4a2a-b477-d0b88bdeb548",
   "metadata": {},
   "outputs": [],
   "source": [
    "# define search space\n",
    "space = dict()\n",
    "#solver{‘lbfgs’, ‘liblinear’, ‘newton-cg’, ‘newton-cholesky’, ‘sag’, ‘saga’}, default=’lbfgs’\n",
    "space['solver'] = ['newton-cg', 'sag']\n",
    "#penalty{‘l1’, ‘l2’, ‘elasticnet’, None}, default=’l2’\n",
    "#space['penalty'] = ['l1', 'l2', 'elasticnet']\n"
   ]
  },
  {
   "cell_type": "code",
   "execution_count": 69,
   "id": "fd1b5b30-9ecf-4bb3-834d-3c0fdd0ff5e0",
   "metadata": {},
   "outputs": [],
   "source": [
    "# define search\n",
    "search = GridSearchCV(model, space)"
   ]
  },
  {
   "cell_type": "code",
   "execution_count": 70,
   "id": "3aa8bc43-48cc-4f53-b8e0-df8c433ec1be",
   "metadata": {},
   "outputs": [
    {
     "name": "stdout",
     "output_type": "stream",
     "text": [
      "Best Score: 0.7935032326909798\n",
      "Best Hyperparameters: {'solver': 'newton-cg'}\n"
     ]
    },
    {
     "name": "stderr",
     "output_type": "stream",
     "text": [
      "c:\\users\\msinclair\\miniconda3\\lib\\site-packages\\sklearn\\linear_model\\_sag.py:328: ConvergenceWarning: The max_iter was reached which means the coef_ did not converge\n",
      "  warnings.warn(\"The max_iter was reached which means \"\n",
      "c:\\users\\msinclair\\miniconda3\\lib\\site-packages\\sklearn\\linear_model\\_sag.py:328: ConvergenceWarning: The max_iter was reached which means the coef_ did not converge\n",
      "  warnings.warn(\"The max_iter was reached which means \"\n",
      "c:\\users\\msinclair\\miniconda3\\lib\\site-packages\\sklearn\\linear_model\\_sag.py:328: ConvergenceWarning: The max_iter was reached which means the coef_ did not converge\n",
      "  warnings.warn(\"The max_iter was reached which means \"\n",
      "c:\\users\\msinclair\\miniconda3\\lib\\site-packages\\sklearn\\linear_model\\_sag.py:328: ConvergenceWarning: The max_iter was reached which means the coef_ did not converge\n",
      "  warnings.warn(\"The max_iter was reached which means \"\n",
      "c:\\users\\msinclair\\miniconda3\\lib\\site-packages\\sklearn\\linear_model\\_sag.py:328: ConvergenceWarning: The max_iter was reached which means the coef_ did not converge\n",
      "  warnings.warn(\"The max_iter was reached which means \"\n"
     ]
    }
   ],
   "source": [
    "# execute search\n",
    "result = search.fit(X, y)\n",
    "# summarize result\n",
    "print('Best Score: %s' % result.best_score_)\n",
    "print('Best Hyperparameters: %s' % result.best_params_)"
   ]
  },
  {
   "cell_type": "code",
   "execution_count": 71,
   "id": "937aefdf-f01b-4cf4-8563-fd910ee119d8",
   "metadata": {},
   "outputs": [],
   "source": [
    "model = LogisticRegression(solver='newton-cg', random_state=4).fit(train_X, train_y)"
   ]
  },
  {
   "cell_type": "code",
   "execution_count": 72,
   "id": "525d9377-a01d-4deb-88d4-01a8502446f0",
   "metadata": {},
   "outputs": [
    {
     "data": {
      "text/plain": [
       "array([[120,  25],\n",
       "       [ 20,  58]], dtype=int64)"
      ]
     },
     "execution_count": 72,
     "metadata": {},
     "output_type": "execute_result"
    }
   ],
   "source": [
    "confusion_matrix(test_y, model.predict(test_X))"
   ]
  },
  {
   "cell_type": "code",
   "execution_count": 73,
   "id": "d8f030a9-30eb-4e1c-bac5-dbe44fd902a6",
   "metadata": {},
   "outputs": [],
   "source": [
    "final_X = final_test.loc[:, feature_columns_to_use]"
   ]
  },
  {
   "cell_type": "code",
   "execution_count": 74,
   "id": "22f550e0-470e-45d8-9e4a-aada871fe3ab",
   "metadata": {},
   "outputs": [],
   "source": [
    "predictions = model.predict(final_X)"
   ]
  },
  {
   "cell_type": "code",
   "execution_count": 75,
   "id": "1377578f-ce67-4ee8-8510-91ff91322d33",
   "metadata": {},
   "outputs": [],
   "source": [
    "# Kaggle needs the submission to have a certain format;\n",
    "# see https://www.kaggle.com/c/titanic-gettingStarted/download/gendermodel.csv\n",
    "# for an example of what it's supposed to look like.\n",
    "submission = pd.DataFrame({ 'PassengerId': final_test['PassengerId'],\n",
    "                            'Survived': predictions })\n",
    "submission.to_csv(\"../data/processed/submission.csv\", index=False)"
   ]
  }
 ],
 "metadata": {
  "kernelspec": {
   "display_name": "Python 3 (ipykernel)",
   "language": "python",
   "name": "python3"
  },
  "language_info": {
   "codemirror_mode": {
    "name": "ipython",
    "version": 3
   },
   "file_extension": ".py",
   "mimetype": "text/x-python",
   "name": "python",
   "nbconvert_exporter": "python",
   "pygments_lexer": "ipython3",
   "version": "3.9.1"
  }
 },
 "nbformat": 4,
 "nbformat_minor": 5
}
